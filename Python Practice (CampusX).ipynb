{
 "cells": [
  {
   "cell_type": "markdown",
   "id": "2026f51a",
   "metadata": {},
   "source": [
    "Solution1:"
   ]
  },
  {
   "cell_type": "code",
   "execution_count": 1,
   "id": "381e0d82",
   "metadata": {},
   "outputs": [
    {
     "name": "stdout",
     "output_type": "stream",
     "text": [
      "Enter first age: 41\n",
      "Enter second age: 48\n",
      "Enter third age: 22\n",
      "The oldest age is: 48\n"
     ]
    }
   ],
   "source": [
    "# Take input from the user\n",
    "x = int(input('Enter first age: '))\n",
    "y = int(input('Enter second age: '))\n",
    "z = int(input('Enter third age: '))\n",
    "\n",
    "# Find the oldest\n",
    "oldest = x\n",
    "if oldest < y:\n",
    "    oldest = y\n",
    "if oldest < z:\n",
    "    oldest = z\n",
    "\n",
    "# Display the oldest\n",
    "print(\"The oldest age is:\", oldest)\n"
   ]
  },
  {
   "cell_type": "markdown",
   "id": "a1e41fcb",
   "metadata": {},
   "source": [
    "solution2:"
   ]
  },
  {
   "cell_type": "code",
   "execution_count": 5,
   "id": "6017f1af",
   "metadata": {},
   "outputs": [
    {
     "name": "stdout",
     "output_type": "stream",
     "text": [
      "Enter celcius value: 6\n",
      "42.8 F\n"
     ]
    }
   ],
   "source": [
    "#let C be celcius\n",
    "C = int(input('Enter celcius value: '))\n",
    "F = (C*(9/5)) + 32\n",
    "print(F, 'F')"
   ]
  },
  {
   "cell_type": "markdown",
   "id": "ec5c939e",
   "metadata": {},
   "source": [
    "solution3:"
   ]
  },
  {
   "cell_type": "code",
   "execution_count": 11,
   "id": "7784aea9",
   "metadata": {},
   "outputs": [
    {
     "name": "stdout",
     "output_type": "stream",
     "text": [
      "Enter first no.: 4\n",
      "Enter second no.: 7\n",
      "7 4\n"
     ]
    }
   ],
   "source": [
    "x = int(input('Enter first no.: '))\n",
    "y = int(input('Enter second no.: '))\n",
    "\n",
    "print(y, x)"
   ]
  },
  {
   "cell_type": "code",
   "execution_count": 1,
   "id": "a793ed78",
   "metadata": {},
   "outputs": [
    {
     "name": "stdout",
     "output_type": "stream",
     "text": [
      "1st digit: 6\n",
      "2nd digit: 3\n",
      "3rd digit: 8\n",
      "sum of three digits is  17\n"
     ]
    }
   ],
   "source": [
    "a = int(input('1st digit: '))\n",
    "b = int(input('2nd digit: '))\n",
    "c = int(input('3rd digit: '))\n",
    "\n",
    "print('sum of three digits is ', a+b+c)"
   ]
  },
  {
   "cell_type": "code",
   "execution_count": null,
   "id": "4ab9eddc",
   "metadata": {},
   "outputs": [],
   "source": []
  }
 ],
 "metadata": {
  "kernelspec": {
   "display_name": "Python 3 (ipykernel)",
   "language": "python",
   "name": "python3"
  },
  "language_info": {
   "codemirror_mode": {
    "name": "ipython",
    "version": 3
   },
   "file_extension": ".py",
   "mimetype": "text/x-python",
   "name": "python",
   "nbconvert_exporter": "python",
   "pygments_lexer": "ipython3",
   "version": "3.10.9"
  }
 },
 "nbformat": 4,
 "nbformat_minor": 5
}
