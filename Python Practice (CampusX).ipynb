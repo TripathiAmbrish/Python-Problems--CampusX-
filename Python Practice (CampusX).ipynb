{
 "cells": [
  {
   "cell_type": "markdown",
   "id": "2026f51a",
   "metadata": {},
   "source": [
    "Solution1:"
   ]
  },
  {
   "cell_type": "code",
   "execution_count": 1,
   "id": "381e0d82",
   "metadata": {},
   "outputs": [
    {
     "name": "stdout",
     "output_type": "stream",
     "text": [
      "Enter first age: 32\n",
      "Enter second age: 64\n",
      "Enter third age: 44\n",
      "The oldest age is: 64\n"
     ]
    }
   ],
   "source": [
    "# Take input from the user\n",
    "x = int(input('Enter first age: '))\n",
    "y = int(input('Enter second age: '))\n",
    "z = int(input('Enter third age: '))\n",
    "\n",
    "# Find the oldest\n",
    "oldest = x\n",
    "if oldest < y:\n",
    "    oldest = y\n",
    "if oldest < z:\n",
    "    oldest = z\n",
    "\n",
    "# Display the oldest\n",
    "print(\"The oldest age is:\", oldest)\n"
   ]
  },
  {
   "cell_type": "markdown",
   "id": "a1e41fcb",
   "metadata": {},
   "source": [
    "solution2:"
   ]
  },
  {
   "cell_type": "code",
   "execution_count": 2,
   "id": "6017f1af",
   "metadata": {},
   "outputs": [
    {
     "name": "stdout",
     "output_type": "stream",
     "text": [
      "Enter celcius value: 17\n",
      "62.6 F\n"
     ]
    }
   ],
   "source": [
    "#let C be celcius\n",
    "C = int(input('Enter celcius value: '))\n",
    "F = (C*(9/5)) + 32\n",
    "F = round(F, 2)\n",
    "print(F, 'F')"
   ]
  },
  {
   "cell_type": "markdown",
   "id": "fafbe4a0",
   "metadata": {},
   "source": [
    "solution3:"
   ]
  },
  {
   "cell_type": "code",
   "execution_count": 3,
   "id": "7784aea9",
   "metadata": {},
   "outputs": [
    {
     "name": "stdout",
     "output_type": "stream",
     "text": [
      "Enter first no.: 22\n",
      "Enter second no.: 83\n",
      "83 22\n"
     ]
    }
   ],
   "source": [
    "x = int(input('Enter first no.: '))\n",
    "y = int(input('Enter second no.: '))\n",
    "\n",
    "print(y, x)"
   ]
  },
  {
   "cell_type": "markdown",
   "id": "146de3a9",
   "metadata": {},
   "source": [
    "solution4:"
   ]
  },
  {
   "cell_type": "code",
   "execution_count": 4,
   "id": "a793ed78",
   "metadata": {},
   "outputs": [
    {
     "name": "stdout",
     "output_type": "stream",
     "text": [
      "1st digit: 33\n",
      "2nd digit: 54\n",
      "3rd digit: 1234\n",
      "sum of three digits is  1321\n"
     ]
    }
   ],
   "source": [
    "a = int(input('1st digit: '))\n",
    "b = int(input('2nd digit: '))\n",
    "c = int(input('3rd digit: '))\n",
    "\n",
    "print('sum of three digits is ', a+b+c)"
   ]
  },
  {
   "cell_type": "markdown",
   "id": "d0e1e99c",
   "metadata": {},
   "source": [
    "solutiob5:"
   ]
  },
  {
   "cell_type": "code",
   "execution_count": 5,
   "id": "4ab9eddc",
   "metadata": {},
   "outputs": [
    {
     "name": "stdout",
     "output_type": "stream",
     "text": [
      "Enter a four digit nunber: 2537\n",
      "7352\n",
      "True\n"
     ]
    }
   ],
   "source": [
    "four_dig_num = int(input('Enter a four digit nunber: '))\n",
    "\n",
    "reversed_num = int(str(four_dig_num)[::-1])\n",
    "print(reversed_num)\n",
    "\n",
    "if four_dig_num != reversed_num:\n",
    "    print(True)\n",
    "else:\n",
    "    print(False)"
   ]
  },
  {
   "cell_type": "markdown",
   "id": "076754cc",
   "metadata": {},
   "source": [
    "solution6:"
   ]
  },
  {
   "cell_type": "code",
   "execution_count": 6,
   "id": "6a9826ec",
   "metadata": {},
   "outputs": [
    {
     "name": "stdout",
     "output_type": "stream",
     "text": [
      "Enter a number: 38\n",
      "38  is even\n"
     ]
    }
   ],
   "source": [
    "num = int(input('Enter a number: '))\n",
    "\n",
    "if num % 2 == 0:\n",
    "    print(num,' is even')\n",
    "else:\n",
    "    print(num,' is odd')"
   ]
  },
  {
   "cell_type": "markdown",
   "id": "92f44fca",
   "metadata": {},
   "source": [
    "solution7:"
   ]
  },
  {
   "cell_type": "code",
   "execution_count": 9,
   "id": "90430e76",
   "metadata": {},
   "outputs": [
    {
     "name": "stdout",
     "output_type": "stream",
     "text": [
      "Enter a year: 2023\n",
      "2023  not a leap year.\n"
     ]
    }
   ],
   "source": [
    "year = int(input('Enter a year: '))\n",
    "\n",
    "if year / 4 and not year / 100:\n",
    "    print(year, ' is a leap year.')\n",
    "else:\n",
    "    print(year, ' not a leap year.')"
   ]
  },
  {
   "cell_type": "markdown",
   "id": "32cff634",
   "metadata": {},
   "source": [
    "solution8:"
   ]
  },
  {
   "cell_type": "code",
   "execution_count": 8,
   "id": "37eb5512",
   "metadata": {},
   "outputs": [
    {
     "name": "stdout",
     "output_type": "stream",
     "text": [
      "Enter x: 7\n",
      "Enter y: 7\n",
      "Enter a: 4\n",
      "Enter b: 5\n",
      "Euclidean distance is  3.61\n"
     ]
    }
   ],
   "source": [
    "import math\n",
    "\n",
    "x = int(input(\"Enter x: \"))\n",
    "y = int(input(\"Enter y: \"))\n",
    "a = int(input(\"Enter a: \"))\n",
    "b = int(input(\"Enter b: \"))\n",
    "\n",
    "euc_dis = math.sqrt((x - a)**2 + (y - b)**2)\n",
    "euc_dis = round(euc_dis,2)\n",
    "print(\"Euclidean distance is \",euc_dis)"
   ]
  },
  {
   "cell_type": "markdown",
   "id": "ba40eecd",
   "metadata": {},
   "source": [
    "solution9:"
   ]
  },
  {
   "cell_type": "code",
   "execution_count": 1,
   "id": "3612add6",
   "metadata": {},
   "outputs": [
    {
     "name": "stdout",
     "output_type": "stream",
     "text": [
      "Enter the angle: 32\n",
      "Enter the angle: 108\n",
      "Enter the angle: 40\n",
      "abc is a triangle\n"
     ]
    }
   ],
   "source": [
    "#angles\n",
    "a = int(input(\"Enter the angle: \"))\n",
    "b = int(input(\"Enter the angle: \"))\n",
    "c = int(input(\"Enter the angle: \"))\n",
    "\n",
    "if a+b+c == 180:\n",
    "    print(\"abc is a triangle\")\n",
    "else:\n",
    "    print(\"abc is not a triangle\")"
   ]
  },
  {
   "cell_type": "markdown",
   "id": "ae35790d",
   "metadata": {},
   "source": [
    "solution10"
   ]
  },
  {
   "cell_type": "code",
   "execution_count": 4,
   "id": "96ae7631",
   "metadata": {},
   "outputs": [
    {
     "name": "stdout",
     "output_type": "stream",
     "text": [
      "Enter the selling price: 55\n",
      "Enter the cost price: 58\n",
      "Loss of 3\n"
     ]
    }
   ],
   "source": [
    "s_p = int(input(\"Enter the selling price: \"))\n",
    "c_p = int(input(\"Enter the cost price: \"))\n",
    "\n",
    "if s_p - c_p > s_p:\n",
    "    print(\"Profit of \",s_p-c_p)\n",
    "else:\n",
    "        print(\"Loss of\",abs(s_p-c_p))"
   ]
  },
  {
   "cell_type": "markdown",
   "id": "722786ee",
   "metadata": {},
   "source": [
    "solution11"
   ]
  },
  {
   "cell_type": "code",
   "execution_count": 6,
   "id": "1359358f",
   "metadata": {},
   "outputs": [
    {
     "name": "stdout",
     "output_type": "stream",
     "text": [
      "Enter Principle: 45\n",
      "Enter Rate of interest: 4\n",
      "Enter time: 3\n",
      "5.4\n"
     ]
    }
   ],
   "source": [
    "P = int(input(\"Enter Principle: \"))\n",
    "R = int(input(\"Enter Rate of interest: \"))\n",
    "T = int(input(\"Enter time: \"))\n",
    "\n",
    "SI = round(P*R*T/100,2)\n",
    "print(SI)"
   ]
  },
  {
   "cell_type": "markdown",
   "id": "9fef650b",
   "metadata": {},
   "source": [
    "solution12"
   ]
  },
  {
   "cell_type": "code",
   "execution_count": 4,
   "id": "fac214ab",
   "metadata": {},
   "outputs": [
    {
     "name": "stdout",
     "output_type": "stream",
     "text": [
      "Enter the radius (in cm): 14.4\n",
      "Enter the length (in cm): 22\n",
      "volume is 15565.27\n",
      "cylinder capacity is 15.57\n",
      "cost is 622.8\n"
     ]
    }
   ],
   "source": [
    "r = float(input(\"Enter the radius (in cm): \"))\n",
    "l = float(input(\"Enter the length (in cm): \"))\n",
    "\n",
    "volume = round(3.412*(r**2)*l,2)\n",
    "cyl_cap = round(volume/1000,2)\n",
    "cost = 40*cyl_cap\n",
    "\n",
    "print(\"volume is\",volume)\n",
    "print(\"cylinder capacity is\",cyl_cap)\n",
    "print(\"cost is\",cost)"
   ]
  },
  {
   "cell_type": "code",
   "execution_count": 3,
   "id": "d6675f03",
   "metadata": {},
   "outputs": [
    {
     "name": "stdout",
     "output_type": "stream",
     "text": [
      "Enter a number: 3483\n",
      "The sum of digits is divisible by both 3 and 6.\n"
     ]
    }
   ],
   "source": [
    "num = int(input(\"Enter a number: \"))\n",
    "sum_num = sum(int(digit) for digit in str(num))  # Convert num to string to iterate over digits\n",
    "\n",
    "if sum_num % 3 == 0 and sum_num % 6 == 0:\n",
    "    print(\"The sum of digits is divisible by both 3 and 6.\")\n",
    "else:\n",
    "    print(\"The sum of digits is not divisible by both 3 and 6.\")\n"
   ]
  },
  {
   "cell_type": "markdown",
   "id": "85f84e5b",
   "metadata": {},
   "source": [
    "solution16:"
   ]
  },
  {
   "cell_type": "code",
   "execution_count": 9,
   "id": "9689df50",
   "metadata": {},
   "outputs": [
    {
     "name": "stdout",
     "output_type": "stream",
     "text": [
      "Enter the temperature: 21\n",
      "Enter the humidity: 27\n",
      "Weather: Cool\n"
     ]
    }
   ],
   "source": [
    "temp = int(input(\"Enter the temperature: \"))\n",
    "humid = int(input(\"Enter the humidity: \"))\n",
    "\n",
    "if temp >= 3 and humid >= 90:\n",
    "    print(\"Weather: Hot and Humid\")\n",
    "elif temp >+ 30 and humid < 90:\n",
    "        print(\"Weather: Hot\")\n",
    "elif temp >+ 30 and humid < 90:\n",
    "        print(\"Weather: Hot\")\n",
    "elif temp < 30 and humid >= 90:\n",
    "        print(\"Weather: Cool and Humid\")\n",
    "else:\n",
    "    print(\"Weather: Cool\")\n",
    "\n"
   ]
  },
  {
   "cell_type": "code",
   "execution_count": null,
   "id": "a7b48504",
   "metadata": {},
   "outputs": [],
   "source": []
  },
  {
   "cell_type": "code",
   "execution_count": null,
   "id": "a3e58e61",
   "metadata": {},
   "outputs": [],
   "source": []
  }
 ],
 "metadata": {
  "kernelspec": {
   "display_name": "Python 3 (ipykernel)",
   "language": "python",
   "name": "python3"
  },
  "language_info": {
   "codemirror_mode": {
    "name": "ipython",
    "version": 3
   },
   "file_extension": ".py",
   "mimetype": "text/x-python",
   "name": "python",
   "nbconvert_exporter": "python",
   "pygments_lexer": "ipython3",
   "version": "3.10.9"
  }
 },
 "nbformat": 4,
 "nbformat_minor": 5
}
