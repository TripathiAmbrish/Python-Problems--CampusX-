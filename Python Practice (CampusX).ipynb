{
 "cells": [
  {
   "cell_type": "markdown",
   "id": "2026f51a",
   "metadata": {},
   "source": [
    "Solution1:"
   ]
  },
  {
   "cell_type": "code",
   "execution_count": 1,
   "id": "381e0d82",
   "metadata": {},
   "outputs": [
    {
     "name": "stdout",
     "output_type": "stream",
     "text": [
      "Enter first age: 32\n",
      "Enter second age: 64\n",
      "Enter third age: 44\n",
      "The oldest age is: 64\n"
     ]
    }
   ],
   "source": [
    "# Take input from the user\n",
    "x = int(input('Enter first age: '))\n",
    "y = int(input('Enter second age: '))\n",
    "z = int(input('Enter third age: '))\n",
    "\n",
    "# Find the oldest\n",
    "oldest = x\n",
    "if oldest < y:\n",
    "    oldest = y\n",
    "if oldest < z:\n",
    "    oldest = z\n",
    "\n",
    "# Display the oldest\n",
    "print(\"The oldest age is:\", oldest)\n"
   ]
  },
  {
   "cell_type": "markdown",
   "id": "a1e41fcb",
   "metadata": {},
   "source": [
    "solution2:"
   ]
  },
  {
   "cell_type": "code",
   "execution_count": 2,
   "id": "6017f1af",
   "metadata": {},
   "outputs": [
    {
     "name": "stdout",
     "output_type": "stream",
     "text": [
      "Enter celcius value: 17\n",
      "62.6 F\n"
     ]
    }
   ],
   "source": [
    "#let C be celcius\n",
    "C = int(input('Enter celcius value: '))\n",
    "F = (C*(9/5)) + 32\n",
    "F = round(F, 2)\n",
    "print(F, 'F')"
   ]
  },
  {
   "cell_type": "markdown",
   "id": "fafbe4a0",
   "metadata": {},
   "source": [
    "solution3:"
   ]
  },
  {
   "cell_type": "code",
   "execution_count": 3,
   "id": "7784aea9",
   "metadata": {},
   "outputs": [
    {
     "name": "stdout",
     "output_type": "stream",
     "text": [
      "Enter first no.: 22\n",
      "Enter second no.: 83\n",
      "83 22\n"
     ]
    }
   ],
   "source": [
    "x = int(input('Enter first no.: '))\n",
    "y = int(input('Enter second no.: '))\n",
    "\n",
    "print(y, x)"
   ]
  },
  {
   "cell_type": "markdown",
   "id": "146de3a9",
   "metadata": {},
   "source": [
    "solution4:"
   ]
  },
  {
   "cell_type": "code",
   "execution_count": 4,
   "id": "a793ed78",
   "metadata": {},
   "outputs": [
    {
     "name": "stdout",
     "output_type": "stream",
     "text": [
      "1st digit: 33\n",
      "2nd digit: 54\n",
      "3rd digit: 1234\n",
      "sum of three digits is  1321\n"
     ]
    }
   ],
   "source": [
    "a = int(input('1st digit: '))\n",
    "b = int(input('2nd digit: '))\n",
    "c = int(input('3rd digit: '))\n",
    "\n",
    "print('sum of three digits is ', a+b+c)"
   ]
  },
  {
   "cell_type": "markdown",
   "id": "d0e1e99c",
   "metadata": {},
   "source": [
    "solutiob5:"
   ]
  },
  {
   "cell_type": "code",
   "execution_count": 5,
   "id": "4ab9eddc",
   "metadata": {},
   "outputs": [
    {
     "name": "stdout",
     "output_type": "stream",
     "text": [
      "Enter a four digit nunber: 2537\n",
      "7352\n",
      "True\n"
     ]
    }
   ],
   "source": [
    "four_dig_num = int(input('Enter a four digit nunber: '))\n",
    "\n",
    "reversed_num = int(str(four_dig_num)[::-1])\n",
    "print(reversed_num)\n",
    "\n",
    "if four_dig_num != reversed_num:\n",
    "    print(True)\n",
    "else:\n",
    "    print(False)"
   ]
  },
  {
   "cell_type": "markdown",
   "id": "076754cc",
   "metadata": {},
   "source": [
    "solution6:"
   ]
  },
  {
   "cell_type": "code",
   "execution_count": 6,
   "id": "6a9826ec",
   "metadata": {},
   "outputs": [
    {
     "name": "stdout",
     "output_type": "stream",
     "text": [
      "Enter a number: 38\n",
      "38  is even\n"
     ]
    }
   ],
   "source": [
    "num = int(input('Enter a number: '))\n",
    "\n",
    "if num % 2 == 0:\n",
    "    print(num,' is even')\n",
    "else:\n",
    "    print(num,' is odd')"
   ]
  },
  {
   "cell_type": "markdown",
   "id": "92f44fca",
   "metadata": {},
   "source": [
    "solution7:"
   ]
  },
  {
   "cell_type": "code",
   "execution_count": 9,
   "id": "90430e76",
   "metadata": {},
   "outputs": [
    {
     "name": "stdout",
     "output_type": "stream",
     "text": [
      "Enter a year: 2023\n",
      "2023  not a leap year.\n"
     ]
    }
   ],
   "source": [
    "year = int(input('Enter a year: '))\n",
    "\n",
    "if year / 4 and not year / 100:\n",
    "    print(year, ' is a leap year.')\n",
    "else:\n",
    "    print(year, ' not a leap year.')"
   ]
  },
  {
   "cell_type": "code",
   "execution_count": null,
   "id": "7fc5ffd2",
   "metadata": {},
   "outputs": [],
   "source": []
  },
  {
   "cell_type": "code",
   "execution_count": null,
   "id": "37eb5512",
   "metadata": {},
   "outputs": [],
   "source": []
  },
  {
   "cell_type": "code",
   "execution_count": null,
   "id": "c0e0b4cd",
   "metadata": {},
   "outputs": [],
   "source": []
  }
 ],
 "metadata": {
  "kernelspec": {
   "display_name": "Python 3 (ipykernel)",
   "language": "python",
   "name": "python3"
  },
  "language_info": {
   "codemirror_mode": {
    "name": "ipython",
    "version": 3
   },
   "file_extension": ".py",
   "mimetype": "text/x-python",
   "name": "python",
   "nbconvert_exporter": "python",
   "pygments_lexer": "ipython3",
   "version": "3.10.9"
  }
 },
 "nbformat": 4,
 "nbformat_minor": 5
}
