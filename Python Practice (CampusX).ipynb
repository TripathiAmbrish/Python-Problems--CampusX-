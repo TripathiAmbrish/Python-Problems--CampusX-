{
 "cells": [
  {
   "cell_type": "markdown",
   "id": "2026f51a",
   "metadata": {},
   "source": [
    "Solution1:"
   ]
  },
  {
   "cell_type": "code",
   "execution_count": null,
   "id": "381e0d82",
   "metadata": {},
   "outputs": [],
   "source": [
    "# Take input from the user\n",
    "x = int(input('Enter first age: '))\n",
    "y = int(input('Enter second age: '))\n",
    "z = int(input('Enter third age: '))\n",
    "\n",
    "# Find the oldest\n",
    "oldest = x\n",
    "if oldest < y:\n",
    "    oldest = y\n",
    "if oldest < z:\n",
    "    oldest = z\n",
    "\n",
    "# Display the oldest\n",
    "print(\"The oldest age is:\", oldest)\n"
   ]
  },
  {
   "cell_type": "markdown",
   "id": "a1e41fcb",
   "metadata": {},
   "source": [
    "solution2:"
   ]
  },
  {
   "cell_type": "code",
   "execution_count": null,
   "id": "6017f1af",
   "metadata": {},
   "outputs": [],
   "source": [
    "#let C be celcius\n",
    "C = int(input('Enter celcius value: '))\n",
    "F = (C*(9/5)) + 32\n",
    "print(F, 'F')"
   ]
  },
  {
   "cell_type": "markdown",
   "id": "fafbe4a0",
   "metadata": {},
   "source": [
    "solution3:"
   ]
  },
  {
   "cell_type": "code",
   "execution_count": null,
   "id": "7784aea9",
   "metadata": {},
   "outputs": [],
   "source": [
    "x = int(input('Enter first no.: '))\n",
    "y = int(input('Enter second no.: '))\n",
    "\n",
    "print(y, x)"
   ]
  },
  {
   "cell_type": "markdown",
   "id": "146de3a9",
   "metadata": {},
   "source": [
    "solution4:"
   ]
  },
  {
   "cell_type": "code",
   "execution_count": null,
   "id": "a793ed78",
   "metadata": {},
   "outputs": [],
   "source": [
    "a = int(input('1st digit: '))\n",
    "b = int(input('2nd digit: '))\n",
    "c = int(input('3rd digit: '))\n",
    "\n",
    "print('sum of three digits is ', a+b+c)"
   ]
  },
  {
   "cell_type": "code",
   "execution_count": null,
   "id": "4ab9eddc",
   "metadata": {},
   "outputs": [],
   "source": []
  },
  {
   "cell_type": "code",
   "execution_count": null,
   "id": "6a9826ec",
   "metadata": {},
   "outputs": [],
   "source": []
  },
  {
   "cell_type": "code",
   "execution_count": null,
   "id": "1366074a",
   "metadata": {},
   "outputs": [],
   "source": []
  },
  {
   "cell_type": "code",
   "execution_count": null,
   "id": "bb72c8c6",
   "metadata": {},
   "outputs": [],
   "source": []
  }
 ],
 "metadata": {
  "kernelspec": {
   "display_name": "Python 3 (ipykernel)",
   "language": "python",
   "name": "python3"
  },
  "language_info": {
   "codemirror_mode": {
    "name": "ipython",
    "version": 3
   },
   "file_extension": ".py",
   "mimetype": "text/x-python",
   "name": "python",
   "nbconvert_exporter": "python",
   "pygments_lexer": "ipython3",
   "version": "3.10.9"
  }
 },
 "nbformat": 4,
 "nbformat_minor": 5
}
